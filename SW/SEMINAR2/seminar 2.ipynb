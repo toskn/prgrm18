{
 "cells": [
  {
   "cell_type": "code",
   "execution_count": null,
   "metadata": {
    "collapsed": true
   },
   "outputs": [],
   "source": [
    "import copy\n",
    "a = []\n",
    "b = copy(a)\n",
    "b = deepcopy(a)\n",
    "# разница у неизменяемых и изменяемых в том, что у неизменяемых( int, str, float, tuple, …) \n",
    "# когда делаем b = a создается размножение, а у изменяемых (list, set, dict, …) не размножение, а связь двух штучек\n"
   ]
  }
 ],
 "metadata": {
  "kernelspec": {
   "display_name": "Python 2",
   "language": "python",
   "name": "python2"
  },
  "language_info": {
   "codemirror_mode": {
    "name": "ipython",
    "version": 2
   },
   "file_extension": ".py",
   "mimetype": "text/x-python",
   "name": "python",
   "nbconvert_exporter": "python",
   "pygments_lexer": "ipython2",
   "version": "2.7.6"
  }
 },
 "nbformat": 4,
 "nbformat_minor": 0
}
